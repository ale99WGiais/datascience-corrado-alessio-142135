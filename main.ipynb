{
 "cells": [
  {
   "cell_type": "code",
   "execution_count": 25,
   "metadata": {
    "collapsed": true
   },
   "outputs": [
    {
     "data": {
      "text/plain": "['news.google.com/./articles/CAIiEAt4qtRZ3zWqNFH5T4a7SnYqGQgEKhAIACoHCAowsZWvCzC-oMcDMMyQtwc?uo=CAUikAFodHRwczovL3d3dy5yYWluZXdzLml0L21hcmF0b25hLzIwMjIvMDYvbGl2ZS1ndWVycmEtaW4tdWNyYWluYS1sYS1jcm9uYWNhLW1pbnV0by1wZXItbWludXRvLWdpb3Juby0xMTItYzRhNmQ3ZTEtMDY0YS00ZDIzLWJlZTAtYTA0NGM1NGNmMTgwLmh0bWzSAQA&hl=it&gl=IT&ceid=IT%3Ait',\n 'news.google.com/./articles/CAIiEEUFY8sPfEEXtkCEgae1vY4qGQgEKhAIACoHCAowsZWvCzC-oMcDMMyQtwc?uo=CAUiiAFodHRwczovL3d3dy5yYWluZXdzLml0L21hcmF0b25hLzIwMjIvMDIvbGEtcnVzc2lhLWludmFkZS1sdWNyYWluYS1sYS1jcm9uYWNhLW1pbnV0by1wZXItbWludXRvLTJmZWRmMDRkLWNjMjctNDgwNi05MGNjLTE1YWUyZThiOWZlMC5odG1s0gEA&hl=it&gl=IT&ceid=IT%3Ait',\n 'news.google.com/./articles/CBMiW2h0dHBzOi8vd3d3LnJlcHViYmxpY2EuaXQvZXN0ZXJpLzIwMjIvMDMvMDYvbmV3cy91Y3JhaW5hX3J1c3NpYV9uZXdzX29nZ2lfZ3VlcnJhLTM0MDQ2ODUxNC_SAV9odHRwczovL3d3dy5yZXB1YmJsaWNhLml0L2VzdGVyaS8yMDIyLzAzLzA2L25ld3MvdWNyYWluYV9ydXNzaWFfbmV3c19vZ2dpX2d1ZXJyYS0zNDA0Njg1MTQvYW1wLw?hl=it&gl=IT&ceid=IT%3Ait',\n 'news.google.com/./articles/CAIiEGr1njB3IwqLIuD-p4UU1BoqGQgEKhAIACoHCAowt5T8CjDi0IgDMPvougU?uo=CAUiRWh0dHBzOi8vd3d3LmF2dmVuaXJlLml0L21vbmRvL3BhZ2luZS9jcmlzaS11Y3JhaW5hLWNvc2EtYy1lLWRhLXNhcGVyZdIBAA&hl=it&gl=IT&ceid=IT%3Ait',\n 'news.google.com/./articles/CBMiXGh0dHBzOi8vd3d3LnJlcHViYmxpY2EuaXQvZXN0ZXJpLzIwMjIvMDMvMDEvbmV3cy91Y3JhaW5hX3J1c3NpYV9uZXdzX29nZ2lfZGlyZXR0YS0zMzk3NTQxNTMv0gFgaHR0cHM6Ly93d3cucmVwdWJibGljYS5pdC9lc3RlcmkvMjAyMi8wMy8wMS9uZXdzL3VjcmFpbmFfcnVzc2lhX25ld3Nfb2dnaV9kaXJldHRhLTMzOTc1NDE1My9hbXAv?hl=it&gl=IT&ceid=IT%3Ait',\n 'news.google.com/./articles/CAIiEOyA-ErxhO3VHneg2QvV_foqFggEKg4IACoGCAowrdl7MJ-4CTCvyBU?uo=CAUicGh0dHBzOi8vd3d3Lmxhc3RhbXBhLml0L2VzdGVyaS8yMDIyLzA1LzEwL25ld3MvZ3VlcnJhX3J1c3NpYXVjcmFpbmFfbGVfdWx0aW1lX25ld3NfZGlfbWFydGVkaV8xMF9tYWdnaW8tMzUwODYyOS_SAQA&hl=it&gl=IT&ceid=IT%3Ait',\n 'news.google.com/./articles/CAIiEFF0FErlU8Xxzrq9cvhTT-IqGQgEKhAIACoHCAowt5T8CjDi0IgDMPvougU?uo=CAUiXWh0dHBzOi8vd3d3LmF2dmVuaXJlLml0L21vbmRvL3BhZ2luZS9sYS1zdHJhdGVnaWEtZGktcHV0aW4tbmVnb3ppYXJlLWRvcG8tYXZlci12aW50by1xdWFsY29zYdIBAA&hl=it&gl=IT&ceid=IT%3Ait',\n 'news.google.com/./articles/CBMic2h0dHBzOi8vd3d3LmFsdGFsZXguY29tL2RvY3VtZW50cy9uZXdzLzIwMjIvMDIvMjQvbGEtY3Jpc2ktZGVsbC11Y3JhaW5hLXNvdHRvLWlsLXByb2ZpbG8tZGVsLWRpcml0dG8taW50ZXJuYXppb25hbGXSAQA?hl=it&gl=IT&ceid=IT%3Ait',\n 'news.google.com/./articles/CBMiTGh0dHBzOi8vZm9yYmVzLml0LzIwMjIvMDMvMDEvb2xpZ2FyY2hpLXJ1c3NpLWNvbnRyby1pbnZhc2lvbmUtdWNyYWluYS1wdXRpbi_SAQA?hl=it&gl=IT&ceid=IT%3Ait',\n 'news.google.com/./articles/CBMiVWh0dHBzOi8vZm9yYmVzLml0LzIwMjIvMDMvMjMvcGlsLWluZmxhemlvbmUtZWZmZXR0aS1ndWVycmEtdWNyYWluYS1lY29ub21pYS1pdGFsaWFuYS_SAQA?hl=it&gl=IT&ceid=IT%3Ait',\n 'news.google.com/./articles/CBMia2h0dHBzOi8vd3d3LmFsdGFsZXguY29tL2RvY3VtZW50cy9uZXdzLzIwMjIvMDMvMDgvcXVhbGktdGVtcGktcGVyLWluZ3Jlc3NvLWRlbGwtdWNyYWluYS1uZWxsLXVuaW9uZS1ldXJvcGVh0gEA?hl=it&gl=IT&ceid=IT%3Ait',\n 'news.google.com/./articles/CBMitwFodHRwczovL3d3dy5pbGZhdHRvcXVvdGlkaWFuby5pdC8yMDIyLzAzLzIzL2d1ZXJyYS1ydXNzaWEtdWNyYWluYS1xdWFuZG8tYmVybmllLXNhbmRlcnMtbGFuY2lhdmEtbGFsbGFybWUtbGEtc3RyZXR0YS1yZWxhemlvbmUtdHJhLXVzYS1lLWtpZXYtcG90cmViYmUtYXZlcmUtZ3JhdmktY29uc2VndWVuemUvNjUzMzc1NC_SAQA?hl=it&gl=IT&ceid=IT%3Ait',\n 'news.google.com/./articles/CBMiXWh0dHBzOi8vd3d3LmFsdGFsZXguY29tL2RvY3VtZW50cy9uZXdzLzIwMjIvMDMvMzEvcHJvdGV6aW9uZS10ZW1wb3JhbmVhLXByb2Z1Z2hpLXVjcmFpbmktZHBjbdIBAA?hl=it&gl=IT&ceid=IT%3Ait',\n 'news.google.com/./articles/CAIiEPXtPdYEshVTXq62x6TicG4qGQgEKhAIACoHCAowkaf-CjCLsIoDMK3s4AU?uo=CAUikQFodHRwczovL3d3dy5jb3JyaWVyZS5pdC9lc3RlcmkvMjJfbWFyem9fMTcvZGFnbGktc3Rpbmdlci1hbnRpLWNhcnJvLWphdmVsaW4tdHV0dGUtYXJtaS11c2EtYWxsLXVjcmFpbmEtYTcwODI2ZDAtYTVjNS0xMWVjLWI5ZDAtOWI5ZTNiYjhmMjE1LnNodG1s0gEA&hl=it&gl=IT&ceid=IT%3Ait',\n 'news.google.com/./articles/CBMiWmh0dHBzOi8vd3d3LnN0YXJ0bWFnLml0L21vbmRvL3F1YW5kby16ZWxlbnNreS1ub24taW52b2NhdmEtbGEtbmF0by1hbmFsaXNpLWxpbWVzLWRlbC0yMDIwL9IBAA?hl=it&gl=IT&ceid=IT%3Ait',\n 'news.google.com/./articles/CBMidWh0dHBzOi8vd3d3LmdvYWwuY29tL2l0L25vdGl6aWUvc3BhcmVnZ2ktbW9uZGlhbGktcmludmlhdGEtc2NvemlhLXVjcmFpbmEtcnVzc2lhLWVzY2x1c2EtcG9sb25pYS0vYmx0YzNhMGMyOTFjYmRlZGI0OdIBeWh0dHBzOi8vd3d3LmdvYWwuY29tL2l0L2FtcC9ub3RpemllL3NwYXJlZ2dpLW1vbmRpYWxpLXJpbnZpYXRhLXNjb3ppYS11Y3JhaW5hLXJ1c3NpYS1lc2NsdXNhLXBvbG9uaWEtL2JsdGMzYTBjMjkxY2JkZWRiNDk?hl=it&gl=IT&ceid=IT%3Ait',\n 'news.google.com/./articles/CAIiEDETnsRD5zdqNi7kawCrfzIqGQgEKhAIACoHCAowt5T8CjDi0IgDMPvougU?uo=CAUiaGh0dHBzOi8vd3d3LmF2dmVuaXJlLml0L2Vjb25vbWlhL3BhZ2luZS9pbC1zaXRvLWNoZS10cm92YS1ncmF0aXMtdW4tdGV0dG8tYWktcmlmdWdpYXRpLXVjcmFpbmktaW4tZXVyb3Bh0gEA&hl=it&gl=IT&ceid=IT%3Ait',\n 'news.google.com/./articles/CBMiWmh0dHBzOi8vZm9yYmVzLml0LzIwMjIvMDMvMDIvbmlrLXN0b3JvbnNreS1mb25kYXRvcmUtcmV2b2x1dC1zY3JpdmUtbGV0dGVyYS1jb250cm8tZ3VlcnJhL9IBAA?hl=it&gl=IT&ceid=IT%3Ait',\n 'news.google.com/./articles/CAIiEKQZz-GWeHyFqjKIhoTfR_EqGQgEKhAIACoHCAowt5T8CjDi0IgDMOHRzAU?uo=CAUiWGh0dHBzOi8vd3d3LmF2dmVuaXJlLml0L3ZpdGEvcGFnaW5lL2xhLWJhYmluYS1uYXRhLWRhLXV0ZXJvLWluLWFmZml0dG8tcGFybGEtbGEtcGVkaWF0cmHSAQA&hl=it&gl=IT&ceid=IT%3Ait',\n 'news.google.com/./articles/CAIiEL1KSm6Y-tSfp68QNCvG4RwqFwgEKg8IACoHCAow08XNAjDH9RIw5KRV?uo=CAUiW2h0dHBzOi8vd3d3LmFnaS5pdC9zcGV0dGFjb2xvL211c2ljYS9uZXdzLzIwMjItMDUtMTQvZXVyb3Zpc2lvbi1wYWdlbGxlLXZpbmNpdG9yaS0xNjczODMzNi_SAQA&hl=it&gl=IT&ceid=IT%3Ait',\n 'news.google.com/./articles/CAIiEObU0ewDIMlzyGH70a1NzZkqMwgEKioIACIQjmtlMSme1XA-Bf4UuAm-dCoUCAoiEI5rZTEpntVwPgX-FLgJvnQwzYrsBg?uo=CAUijgFodHRwczovL3d3dy5sYTcuaXQvb21uaWJ1cy92aWRlby91Y3JhaW5hLWRhcmlvLWZhYmJyaS1lZC1pbC1ydW9sby1kZWxsYS1jaW5hLXN0YS10aWZhbmRvLXBlci1wdXRpbi1sYS1zaXR1YXppb25lLXVjcmFpbmEtc3RhLTI1LTAzLTIwMjItNDMwODU40gEA&hl=it&gl=IT&ceid=IT%3Ait',\n 'news.google.com/./articles/CAIiEJ645XvSlmYACZmvm6z0S20qGQgEKhAIACoHCAow98KfCzCEzbcDMLqX8QY?uo=CAUiWWh0dHBzOi8vd3d3LmlscHJpbWF0b25hemlvbmFsZS5pdC9jdWx0dXJhL3F1YW5kby1pbi11Y3JhaW5hLWNvbWJhdHRldmFuby1pdGFsaWFuaS0yMjk1NDQv0gEA&hl=it&gl=IT&ceid=IT%3Ait',\n 'news.google.com/./articles/CAIiEGgZKlG-cNZXvfLUwD9XakkqMwgEKioIACIQv3bGCIkplVwpNaiN05m57yoUCAoiEL92xgiJKZVcKTWojdOZue8wrZbMBg?uo=CAUiV2h0dHBzOi8vd3d3LmV1cm9mZXN0aXZhbG5ld3MuY29tLzIwMjIvMDUvMDgvZXVyb3Zpc2lvbi10ZXN0by1zdGVmYW5pYS1rYWx1c2gtb3JjaGVzdHJhL9IBAA&hl=it&gl=IT&ceid=IT%3Ait',\n 'news.google.com/./articles/CAIiEHii_mC6iA7Laa3AYiDExkwqMwgEKioIACIQK8AlBGTTmUgBFwwhx0hNAioUCAoiECvAJQRk05lIARcMIcdITQIwk__zBg?uo=CAUiaWh0dHBzOi8vd3d3LmFsZmVtbWluaWxlLmNvbS9uZXdzL2d1ZXJyYS11Y3JhaW5hLWxhLXN0b3JpYS1kaS1taWEtbmF0YS1zb3R0by1pLWJvbWJhcmRhbWVudGktczQwMzc1MTcuaHRtbNIBAA&hl=it&gl=IT&ceid=IT%3Ait',\n 'news.google.com/./articles/CAIiEG9wtEcm-E3-bcUyFblUSakqGQgEKhAIACoHCAowxrz-CjDs14oDMN_7wAY?uo=CAUiYGh0dHBzOi8vd3d3LmFtaWNhLml0LzIwMjIvMDQvMjIvbWVnaGFuLW1hcmtsZS1nYWZmZS1iYW5kaWVyYS11Y3JhaW5hLWNvbG9yaS1pbnZlcnRpdGktY29udHJhcmlvL9IBAA&hl=it&gl=IT&ceid=IT%3Ait',\n 'news.google.com/./articles/CBMiU2h0dHBzOi8vd3d3LmxhcmFtcGEuaXQvMjAyMi8wMy9ndWVycmEtdWNyYWluYS1tb25kby1yYWRpb2FtYXRvcmktcGlhbmdlLXVyOGd4LWl2YW4v0gEA?hl=it&gl=IT&ceid=IT%3Ait']"
     },
     "execution_count": 25,
     "metadata": {},
     "output_type": "execute_result"
    }
   ],
   "source": [
    "\n",
    "from GoogleNews import GoogleNews\n",
    "import trafilatura\n",
    "import requests\n",
    "from tqdm import tqdm\n",
    "import newspaper\n",
    "import json\n",
    "import pandas as pd\n",
    "\n",
    "keywords = [\"ucraina\"]\n",
    "\n",
    "googlenews = GoogleNews(lang='it', region='IT', start='02/01/2020',end='01/01/2023')\n",
    "\n",
    "googlenews.get_news('ucraina')\n",
    "links = googlenews.get_links()\n",
    "links"
   ]
  },
  {
   "cell_type": "code",
   "execution_count": 27,
   "outputs": [
    {
     "name": "stderr",
     "output_type": "stream",
     "text": [
      "100%|██████████| 26/26 [00:24<00:00,  1.04it/s]\n"
     ]
    }
   ],
   "source": [
    "articles = []\n",
    "\n",
    "for link in tqdm(links):\n",
    "    url = f\"https://{link}\"\n",
    "\n",
    "    article = newspaper.Article(url=url)\n",
    "    article.download()\n",
    "    article.parse()\n",
    "\n",
    "    article ={\n",
    "        \"title\": str(article.title),\n",
    "        \"text\": str(article.text),\n",
    "        \"authors\": article.authors,\n",
    "        \"published_date\": str(article.publish_date),\n",
    "        \"top_image\": str(article.top_image),\n",
    "        \"videos\": article.movies,\n",
    "        \"keywords\": article.keywords,\n",
    "        \"summary\": str(article.summary)\n",
    "    }\n",
    "\n",
    "    articles.append(article)\n"
   ],
   "metadata": {
    "collapsed": false,
    "pycharm": {
     "name": "#%%\n"
    }
   }
  },
  {
   "cell_type": "code",
   "execution_count": 28,
   "outputs": [],
   "source": [
    "res = pd.DataFrame(data={\n",
    "        \"title\": [a[\"title\"] for a in articles],\n",
    "        \"text\": [a[\"text\"] for a in articles],\n",
    "        \"summary\": [a[\"summary\"] for a in articles],\n",
    "        \"keywords\": [a[\"keywords\"] for a in articles],\n",
    "        \"authors\": [a[\"authors\"] for a in articles]\n",
    "    })"
   ],
   "metadata": {
    "collapsed": false,
    "pycharm": {
     "name": "#%%\n"
    }
   }
  },
  {
   "cell_type": "code",
   "execution_count": 29,
   "outputs": [
    {
     "data": {
      "text/plain": "                                                title  \\\n0   Live guerra in Ucraina, la cronaca minuto per ...   \n1   Live guerra in Ucraina, la cronaca minuto per ...   \n2   Ucraina - Russia, le news dalla guerra del 6 m...   \n3   La crisi ucraina: perché si rischia la guerra....   \n4   Ucraina - Russia, le news di oggi sulla guerra...   \n5   Guerra Russia-Ucraina, Kiev mostra al mondo le...   \n6   La strategia di Putin: più tempo per sedersi d...   \n7   La crisi dell'Ucraina sotto il profilo del dir...   \n8   Chi sono gli oligarchi russi che stanno chiede...   \n9   Inflazione e crescita minore del previsto: gli...   \n10  Quali tempi per l’ingresso dell’Ucraina nell’U...   \n11  Guerra Russia-Ucraina, quando Bernie Sanders l...   \n12  Profughi ucraini: il DPCM sulla protezione tem...   \n13  Gli Usa mandano armi all'Ucraina: dai missili ...   \n14  Quando Zelensky non invocava la Nato. Analisi ...   \n15  Spareggi Mondiali: rinviata Scozia-Ucraina, Ru...   \n16  Il sito che trova gratis un tetto ai rifugiati...   \n17  La lettera contro la guerra del miliardario ru...   \n18  Utero in affitto. La bimba abbandonata in Ucra...   \n19  L'Ucraina ha vinto l'Eurovision. Le pagelle de...   \n20  Ucraina, Dario Fabbri ed il ruolo della Cina: ...   \n21                 Quando in Ucraina combattevamo noi   \n22  Eurovision 2022: il testo di “Stefania” dei Ka...   \n23  Guerra Ucraina: la storia di Mia, nata sotto i...   \n24  Meghan Markle sbaglia a disegnare la bandiera ...   \n25  Guerra in Ucraina, il mondo dei radioamatori p...   \n\n                                                 text summary keywords  \\\n0   Xi a Putin: serve soluzione in modo responsabi...               []   \n1   Zelensky: \"Il nostro destino si decide stanott...               []   \n2   Segui la diretta dall'Ucraina di lunedì 7 marz...               []   \n3   Forze di sicurezza ucraine vicino a un negozio...               []   \n4   Segui la diretta\\n\\nPoche ore dopo il primo in...               []   \n5   Biden come Roosevelt. Nel giorno in cui nella ...               []   \n6   Vladimir Putin - NSA/SERGEY GUNEEV/KREMLIN POO...               []   \n7   Sono diverse le questioni poste dall’ultima gr...               []   \n8   Mentre gli Stati Uniti e l’Europa aumentano le...               []   \n9   Il Pil italiano crescerà del 2,5% nel 2022, co...               []   \n10  Ucraina, Moldavia e Georgia formalizzano la do...               []   \n11  Pochi giorni prima dell’invasione russa dell’U...               []   \n12  In attuazione della direttiva comunitaria 2001...               []   \n13  di Guido Olimpio\\n\\nIl Pentagono preferisce fo...               []   \n14  Il pensiero del presidente ucraino Zelensky su...               []   \n15                                                                  []   \n16  COMMENTA E CONDIVIDI\\n\\n\\n\\n\\n\\n\\n\\n\\n\\n\\n\\n\\n...               []   \n17  “Quando crescevo, l’idea di una guerra tra Rus...               []   \n18  La pediatra volontaria della Croce Rossa Carol...               []   \n19  AGI - \"Grazie per avere sostenuto l'Ucraina. S...               []   \n20                                                                  []   \n21  Gli attuali avvenimenti bellici in Ucraina non...               []   \n22  Saranno i Kalush Orchestra a rappresentare l’U...               []   \n23  La guerra tra Russia e Ucraina scoppiata lo sc...               []   \n24  Sara Bovi\\n\\nAgli Invictus Games dell’Aja, la ...               []   \n25  “Ivan Lysenko, UR8GX from Kherson, Ukraine, wa...               []   \n\n                                              authors  \n0                                                  []  \n1                                                  []  \n2   [A Cura Di, Rosa Femia, Piera Matteucci, Anna ...  \n3   [Francesco Palmas, Redazione Esteri, Riccardo ...  \n4   [A Cura Di, Flavio Bini, Anna Lombardi, Ilaria...  \n5   [Aggiornamenti Dall'Ucraina Di Riccardo Colett...  \n6   [Giorgio Ferrari, Luca Miele, Matteo Fraschini...  \n7   [Membro Della International Law Association E ...  \n8                                                  []  \n9                                                  []  \n10                 [Professionista - Avvocato, Email]  \n11                        [Di F. Q., Di Andrea Tundo]  \n12                 [Professionista - Avvocato, Email]  \n13                                    [Guido Olimpio]  \n14                                  [Andrea Mainardi]  \n15                                                 []  \n16  [Daniele Zappalà, Redazione Motori, Pietro Sac...  \n17                                                 []  \n18  [Antonella Mariani E Vincenzo Spagnolo, Antone...  \n19  [Agi - Agenzia Italia, Redazione Agi, Gabriele...  \n20                                                 []  \n21                                                 []  \n22                                [Cristian Scarpone]  \n23  [Alice Michielon, Video Di, Laureata In Arti, ...  \n24                          [Sara Bovi, Paul Gauguin]  \n25  [Per Info E Comunicati, Redazione Larampa.It, ...  ",
      "text/html": "<div>\n<style scoped>\n    .dataframe tbody tr th:only-of-type {\n        vertical-align: middle;\n    }\n\n    .dataframe tbody tr th {\n        vertical-align: top;\n    }\n\n    .dataframe thead th {\n        text-align: right;\n    }\n</style>\n<table border=\"1\" class=\"dataframe\">\n  <thead>\n    <tr style=\"text-align: right;\">\n      <th></th>\n      <th>title</th>\n      <th>text</th>\n      <th>summary</th>\n      <th>keywords</th>\n      <th>authors</th>\n    </tr>\n  </thead>\n  <tbody>\n    <tr>\n      <th>0</th>\n      <td>Live guerra in Ucraina, la cronaca minuto per ...</td>\n      <td>Xi a Putin: serve soluzione in modo responsabi...</td>\n      <td></td>\n      <td>[]</td>\n      <td>[]</td>\n    </tr>\n    <tr>\n      <th>1</th>\n      <td>Live guerra in Ucraina, la cronaca minuto per ...</td>\n      <td>Zelensky: \"Il nostro destino si decide stanott...</td>\n      <td></td>\n      <td>[]</td>\n      <td>[]</td>\n    </tr>\n    <tr>\n      <th>2</th>\n      <td>Ucraina - Russia, le news dalla guerra del 6 m...</td>\n      <td>Segui la diretta dall'Ucraina di lunedì 7 marz...</td>\n      <td></td>\n      <td>[]</td>\n      <td>[A Cura Di, Rosa Femia, Piera Matteucci, Anna ...</td>\n    </tr>\n    <tr>\n      <th>3</th>\n      <td>La crisi ucraina: perché si rischia la guerra....</td>\n      <td>Forze di sicurezza ucraine vicino a un negozio...</td>\n      <td></td>\n      <td>[]</td>\n      <td>[Francesco Palmas, Redazione Esteri, Riccardo ...</td>\n    </tr>\n    <tr>\n      <th>4</th>\n      <td>Ucraina - Russia, le news di oggi sulla guerra...</td>\n      <td>Segui la diretta\\n\\nPoche ore dopo il primo in...</td>\n      <td></td>\n      <td>[]</td>\n      <td>[A Cura Di, Flavio Bini, Anna Lombardi, Ilaria...</td>\n    </tr>\n    <tr>\n      <th>5</th>\n      <td>Guerra Russia-Ucraina, Kiev mostra al mondo le...</td>\n      <td>Biden come Roosevelt. Nel giorno in cui nella ...</td>\n      <td></td>\n      <td>[]</td>\n      <td>[Aggiornamenti Dall'Ucraina Di Riccardo Colett...</td>\n    </tr>\n    <tr>\n      <th>6</th>\n      <td>La strategia di Putin: più tempo per sedersi d...</td>\n      <td>Vladimir Putin - NSA/SERGEY GUNEEV/KREMLIN POO...</td>\n      <td></td>\n      <td>[]</td>\n      <td>[Giorgio Ferrari, Luca Miele, Matteo Fraschini...</td>\n    </tr>\n    <tr>\n      <th>7</th>\n      <td>La crisi dell'Ucraina sotto il profilo del dir...</td>\n      <td>Sono diverse le questioni poste dall’ultima gr...</td>\n      <td></td>\n      <td>[]</td>\n      <td>[Membro Della International Law Association E ...</td>\n    </tr>\n    <tr>\n      <th>8</th>\n      <td>Chi sono gli oligarchi russi che stanno chiede...</td>\n      <td>Mentre gli Stati Uniti e l’Europa aumentano le...</td>\n      <td></td>\n      <td>[]</td>\n      <td>[]</td>\n    </tr>\n    <tr>\n      <th>9</th>\n      <td>Inflazione e crescita minore del previsto: gli...</td>\n      <td>Il Pil italiano crescerà del 2,5% nel 2022, co...</td>\n      <td></td>\n      <td>[]</td>\n      <td>[]</td>\n    </tr>\n    <tr>\n      <th>10</th>\n      <td>Quali tempi per l’ingresso dell’Ucraina nell’U...</td>\n      <td>Ucraina, Moldavia e Georgia formalizzano la do...</td>\n      <td></td>\n      <td>[]</td>\n      <td>[Professionista - Avvocato, Email]</td>\n    </tr>\n    <tr>\n      <th>11</th>\n      <td>Guerra Russia-Ucraina, quando Bernie Sanders l...</td>\n      <td>Pochi giorni prima dell’invasione russa dell’U...</td>\n      <td></td>\n      <td>[]</td>\n      <td>[Di F. Q., Di Andrea Tundo]</td>\n    </tr>\n    <tr>\n      <th>12</th>\n      <td>Profughi ucraini: il DPCM sulla protezione tem...</td>\n      <td>In attuazione della direttiva comunitaria 2001...</td>\n      <td></td>\n      <td>[]</td>\n      <td>[Professionista - Avvocato, Email]</td>\n    </tr>\n    <tr>\n      <th>13</th>\n      <td>Gli Usa mandano armi all'Ucraina: dai missili ...</td>\n      <td>di Guido Olimpio\\n\\nIl Pentagono preferisce fo...</td>\n      <td></td>\n      <td>[]</td>\n      <td>[Guido Olimpio]</td>\n    </tr>\n    <tr>\n      <th>14</th>\n      <td>Quando Zelensky non invocava la Nato. Analisi ...</td>\n      <td>Il pensiero del presidente ucraino Zelensky su...</td>\n      <td></td>\n      <td>[]</td>\n      <td>[Andrea Mainardi]</td>\n    </tr>\n    <tr>\n      <th>15</th>\n      <td>Spareggi Mondiali: rinviata Scozia-Ucraina, Ru...</td>\n      <td></td>\n      <td></td>\n      <td>[]</td>\n      <td>[]</td>\n    </tr>\n    <tr>\n      <th>16</th>\n      <td>Il sito che trova gratis un tetto ai rifugiati...</td>\n      <td>COMMENTA E CONDIVIDI\\n\\n\\n\\n\\n\\n\\n\\n\\n\\n\\n\\n\\n...</td>\n      <td></td>\n      <td>[]</td>\n      <td>[Daniele Zappalà, Redazione Motori, Pietro Sac...</td>\n    </tr>\n    <tr>\n      <th>17</th>\n      <td>La lettera contro la guerra del miliardario ru...</td>\n      <td>“Quando crescevo, l’idea di una guerra tra Rus...</td>\n      <td></td>\n      <td>[]</td>\n      <td>[]</td>\n    </tr>\n    <tr>\n      <th>18</th>\n      <td>Utero in affitto. La bimba abbandonata in Ucra...</td>\n      <td>La pediatra volontaria della Croce Rossa Carol...</td>\n      <td></td>\n      <td>[]</td>\n      <td>[Antonella Mariani E Vincenzo Spagnolo, Antone...</td>\n    </tr>\n    <tr>\n      <th>19</th>\n      <td>L'Ucraina ha vinto l'Eurovision. Le pagelle de...</td>\n      <td>AGI - \"Grazie per avere sostenuto l'Ucraina. S...</td>\n      <td></td>\n      <td>[]</td>\n      <td>[Agi - Agenzia Italia, Redazione Agi, Gabriele...</td>\n    </tr>\n    <tr>\n      <th>20</th>\n      <td>Ucraina, Dario Fabbri ed il ruolo della Cina: ...</td>\n      <td></td>\n      <td></td>\n      <td>[]</td>\n      <td>[]</td>\n    </tr>\n    <tr>\n      <th>21</th>\n      <td>Quando in Ucraina combattevamo noi</td>\n      <td>Gli attuali avvenimenti bellici in Ucraina non...</td>\n      <td></td>\n      <td>[]</td>\n      <td>[]</td>\n    </tr>\n    <tr>\n      <th>22</th>\n      <td>Eurovision 2022: il testo di “Stefania” dei Ka...</td>\n      <td>Saranno i Kalush Orchestra a rappresentare l’U...</td>\n      <td></td>\n      <td>[]</td>\n      <td>[Cristian Scarpone]</td>\n    </tr>\n    <tr>\n      <th>23</th>\n      <td>Guerra Ucraina: la storia di Mia, nata sotto i...</td>\n      <td>La guerra tra Russia e Ucraina scoppiata lo sc...</td>\n      <td></td>\n      <td>[]</td>\n      <td>[Alice Michielon, Video Di, Laureata In Arti, ...</td>\n    </tr>\n    <tr>\n      <th>24</th>\n      <td>Meghan Markle sbaglia a disegnare la bandiera ...</td>\n      <td>Sara Bovi\\n\\nAgli Invictus Games dell’Aja, la ...</td>\n      <td></td>\n      <td>[]</td>\n      <td>[Sara Bovi, Paul Gauguin]</td>\n    </tr>\n    <tr>\n      <th>25</th>\n      <td>Guerra in Ucraina, il mondo dei radioamatori p...</td>\n      <td>“Ivan Lysenko, UR8GX from Kherson, Ukraine, wa...</td>\n      <td></td>\n      <td>[]</td>\n      <td>[Per Info E Comunicati, Redazione Larampa.It, ...</td>\n    </tr>\n  </tbody>\n</table>\n</div>"
     },
     "execution_count": 29,
     "metadata": {},
     "output_type": "execute_result"
    }
   ],
   "source": [
    "\n",
    "res"
   ],
   "metadata": {
    "collapsed": false,
    "pycharm": {
     "name": "#%%\n"
    }
   }
  }
 ],
 "metadata": {
  "kernelspec": {
   "display_name": "Python 3",
   "language": "python",
   "name": "python3"
  },
  "language_info": {
   "codemirror_mode": {
    "name": "ipython",
    "version": 2
   },
   "file_extension": ".py",
   "mimetype": "text/x-python",
   "name": "python",
   "nbconvert_exporter": "python",
   "pygments_lexer": "ipython2",
   "version": "2.7.6"
  }
 },
 "nbformat": 4,
 "nbformat_minor": 0
}